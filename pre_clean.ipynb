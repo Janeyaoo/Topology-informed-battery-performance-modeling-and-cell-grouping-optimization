{
 "cells": [
  {
   "cell_type": "markdown",
   "id": "09450879",
   "metadata": {},
   "source": [
    "# Data process\n",
    "\n",
    "注意事项：\n",
    "Step1:数据提取\n",
    "1. Statis_66_3_2进行原始步次的筛选32,33,34,35;6(恒流恒压放电紧跟着的原始步次6留下来)；\n",
    "2. Statis_66_3_2进行原始步次的筛选64,65,66,67;38(恒流恒压放电紧跟着的原始步次38留下来)\n",
    "3. 将原始步次与实验步次匹配，从Detail_66_3_2提取电流电压细节数据。\n",
    "3. 上一个循环的恒流恒压放电之后匹配上下一个循环的恒流恒压充电时的搁置。\n",
    "4. Cycle_66_3_2清除前14个循环的数据，清除充电容量为0的异常循环；清除突变的突变循环（在异常循环前后），两千多个循环可肉眼观察一下结果。\n",
    "\n",
    "Step:数据清洗\n",
    "1. 检查突变点；\n",
    "2. 镍电池数据需按照充电的容量重新计算容量保持率；\n",
    "3. 镍电池第一个数据：开始和结束需要删除。"
   ]
  },
  {
   "cell_type": "markdown",
   "id": "9a82b78c",
   "metadata": {},
   "source": [
    "## 1.0C-2.0C"
   ]
  },
  {
   "cell_type": "code",
   "execution_count": 2,
   "id": "49cf381c",
   "metadata": {},
   "outputs": [
    {
     "name": "stderr",
     "output_type": "stream",
     "text": [
      "/opt/anaconda3/envs/battery_analysis/lib/python3.9/site-packages/openpyxl/styles/stylesheet.py:237: UserWarning: Workbook contains no default style, apply openpyxl's default\n",
      "  warn(\"Workbook contains no default style, apply openpyxl's default\")\n"
     ]
    },
    {
     "name": "stdout",
     "output_type": "stream",
     "text": [
      "读取成功：LS-EK-LFP-2.0-1_3.65-2_2-EMF-T25-1_11.xlsx, shape = (1048557, 15)\n"
     ]
    },
    {
     "name": "stderr",
     "output_type": "stream",
     "text": [
      "/opt/anaconda3/envs/battery_analysis/lib/python3.9/site-packages/openpyxl/styles/stylesheet.py:237: UserWarning: Workbook contains no default style, apply openpyxl's default\n",
      "  warn(\"Workbook contains no default style, apply openpyxl's default\")\n"
     ]
    },
    {
     "name": "stdout",
     "output_type": "stream",
     "text": [
      "读取成功：LS-EK-LFP-2.0-1_3.65-2_2-EMF-T25-1_1.xlsx, shape = (1048557, 15)\n"
     ]
    },
    {
     "name": "stderr",
     "output_type": "stream",
     "text": [
      "/opt/anaconda3/envs/battery_analysis/lib/python3.9/site-packages/openpyxl/styles/stylesheet.py:237: UserWarning: Workbook contains no default style, apply openpyxl's default\n",
      "  warn(\"Workbook contains no default style, apply openpyxl's default\")\n"
     ]
    },
    {
     "name": "stdout",
     "output_type": "stream",
     "text": [
      "读取成功：LS-EK-LFP-2.0-1_3.65-2_2-EMF-T25-1_10.xlsx, shape = (1048557, 15)\n"
     ]
    },
    {
     "name": "stderr",
     "output_type": "stream",
     "text": [
      "/opt/anaconda3/envs/battery_analysis/lib/python3.9/site-packages/openpyxl/styles/stylesheet.py:237: UserWarning: Workbook contains no default style, apply openpyxl's default\n",
      "  warn(\"Workbook contains no default style, apply openpyxl's default\")\n"
     ]
    },
    {
     "name": "stdout",
     "output_type": "stream",
     "text": [
      "读取成功：LS-EK-LFP-2.0-1_3.65-2_2-EMF-T25-1_6.xlsx, shape = (1048557, 15)\n"
     ]
    },
    {
     "name": "stderr",
     "output_type": "stream",
     "text": [
      "/opt/anaconda3/envs/battery_analysis/lib/python3.9/site-packages/openpyxl/styles/stylesheet.py:237: UserWarning: Workbook contains no default style, apply openpyxl's default\n",
      "  warn(\"Workbook contains no default style, apply openpyxl's default\")\n"
     ]
    },
    {
     "name": "stdout",
     "output_type": "stream",
     "text": [
      "读取成功：LS-EK-LFP-2.0-1_3.65-2_2-EMF-T25-1_17.xlsx, shape = (242447, 15)\n"
     ]
    },
    {
     "name": "stderr",
     "output_type": "stream",
     "text": [
      "/opt/anaconda3/envs/battery_analysis/lib/python3.9/site-packages/openpyxl/styles/stylesheet.py:237: UserWarning: Workbook contains no default style, apply openpyxl's default\n",
      "  warn(\"Workbook contains no default style, apply openpyxl's default\")\n"
     ]
    },
    {
     "name": "stdout",
     "output_type": "stream",
     "text": [
      "读取成功：LS-EK-LFP-2.0-1_3.65-2_2-EMF-T25-1_16.xlsx, shape = (1048557, 15)\n"
     ]
    },
    {
     "name": "stderr",
     "output_type": "stream",
     "text": [
      "/opt/anaconda3/envs/battery_analysis/lib/python3.9/site-packages/openpyxl/styles/stylesheet.py:237: UserWarning: Workbook contains no default style, apply openpyxl's default\n",
      "  warn(\"Workbook contains no default style, apply openpyxl's default\")\n"
     ]
    },
    {
     "name": "stdout",
     "output_type": "stream",
     "text": [
      "读取成功：LS-EK-LFP-2.0-1_3.65-2_2-EMF-T25-1_7.xlsx, shape = (1048557, 15)\n"
     ]
    },
    {
     "name": "stderr",
     "output_type": "stream",
     "text": [
      "/opt/anaconda3/envs/battery_analysis/lib/python3.9/site-packages/openpyxl/styles/stylesheet.py:237: UserWarning: Workbook contains no default style, apply openpyxl's default\n",
      "  warn(\"Workbook contains no default style, apply openpyxl's default\")\n"
     ]
    },
    {
     "name": "stdout",
     "output_type": "stream",
     "text": [
      "读取成功：LS-EK-LFP-2.0-1_3.65-2_2-EMF-T25-1.xlsx, shape = (7, 10)\n"
     ]
    },
    {
     "name": "stderr",
     "output_type": "stream",
     "text": [
      "/opt/anaconda3/envs/battery_analysis/lib/python3.9/site-packages/openpyxl/styles/stylesheet.py:237: UserWarning: Workbook contains no default style, apply openpyxl's default\n",
      "  warn(\"Workbook contains no default style, apply openpyxl's default\")\n"
     ]
    },
    {
     "name": "stdout",
     "output_type": "stream",
     "text": [
      "读取成功：LS-EK-LFP-2.0-1_3.65-2_2-EMF-T25-1_4.xlsx, shape = (1048557, 15)\n"
     ]
    },
    {
     "name": "stderr",
     "output_type": "stream",
     "text": [
      "/opt/anaconda3/envs/battery_analysis/lib/python3.9/site-packages/openpyxl/styles/stylesheet.py:237: UserWarning: Workbook contains no default style, apply openpyxl's default\n",
      "  warn(\"Workbook contains no default style, apply openpyxl's default\")\n"
     ]
    },
    {
     "name": "stdout",
     "output_type": "stream",
     "text": [
      "读取成功：LS-EK-LFP-2.0-1_3.65-2_2-EMF-T25-1_8.xlsx, shape = (1048557, 15)\n"
     ]
    },
    {
     "name": "stderr",
     "output_type": "stream",
     "text": [
      "/opt/anaconda3/envs/battery_analysis/lib/python3.9/site-packages/openpyxl/styles/stylesheet.py:237: UserWarning: Workbook contains no default style, apply openpyxl's default\n",
      "  warn(\"Workbook contains no default style, apply openpyxl's default\")\n"
     ]
    },
    {
     "name": "stdout",
     "output_type": "stream",
     "text": [
      "读取成功：LS-EK-LFP-2.0-1_3.65-2_2-EMF-T25-1_15.xlsx, shape = (1048557, 15)\n"
     ]
    },
    {
     "name": "stderr",
     "output_type": "stream",
     "text": [
      "/opt/anaconda3/envs/battery_analysis/lib/python3.9/site-packages/openpyxl/styles/stylesheet.py:237: UserWarning: Workbook contains no default style, apply openpyxl's default\n",
      "  warn(\"Workbook contains no default style, apply openpyxl's default\")\n"
     ]
    },
    {
     "name": "stdout",
     "output_type": "stream",
     "text": [
      "读取成功：LS-EK-LFP-2.0-1_3.65-2_2-EMF-T25-1_14.xlsx, shape = (1048557, 15)\n"
     ]
    },
    {
     "name": "stderr",
     "output_type": "stream",
     "text": [
      "/opt/anaconda3/envs/battery_analysis/lib/python3.9/site-packages/openpyxl/styles/stylesheet.py:237: UserWarning: Workbook contains no default style, apply openpyxl's default\n",
      "  warn(\"Workbook contains no default style, apply openpyxl's default\")\n"
     ]
    },
    {
     "name": "stdout",
     "output_type": "stream",
     "text": [
      "读取成功：LS-EK-LFP-2.0-1_3.65-2_2-EMF-T25-1_9.xlsx, shape = (1048557, 15)\n"
     ]
    },
    {
     "name": "stderr",
     "output_type": "stream",
     "text": [
      "/opt/anaconda3/envs/battery_analysis/lib/python3.9/site-packages/openpyxl/styles/stylesheet.py:237: UserWarning: Workbook contains no default style, apply openpyxl's default\n",
      "  warn(\"Workbook contains no default style, apply openpyxl's default\")\n"
     ]
    },
    {
     "name": "stdout",
     "output_type": "stream",
     "text": [
      "读取成功：LS-EK-LFP-2.0-1_3.65-2_2-EMF-T25-1_5.xlsx, shape = (1048557, 15)\n"
     ]
    },
    {
     "name": "stderr",
     "output_type": "stream",
     "text": [
      "/opt/anaconda3/envs/battery_analysis/lib/python3.9/site-packages/openpyxl/styles/stylesheet.py:237: UserWarning: Workbook contains no default style, apply openpyxl's default\n",
      "  warn(\"Workbook contains no default style, apply openpyxl's default\")\n"
     ]
    },
    {
     "name": "stdout",
     "output_type": "stream",
     "text": [
      "读取成功：LS-EK-LFP-2.0-1_3.65-2_2-EMF-T25-1_13.xlsx, shape = (1048557, 15)\n"
     ]
    },
    {
     "name": "stderr",
     "output_type": "stream",
     "text": [
      "/opt/anaconda3/envs/battery_analysis/lib/python3.9/site-packages/openpyxl/styles/stylesheet.py:237: UserWarning: Workbook contains no default style, apply openpyxl's default\n",
      "  warn(\"Workbook contains no default style, apply openpyxl's default\")\n"
     ]
    },
    {
     "name": "stdout",
     "output_type": "stream",
     "text": [
      "读取成功：LS-EK-LFP-2.0-1_3.65-2_2-EMF-T25-1_2.xlsx, shape = (1048557, 15)\n"
     ]
    },
    {
     "name": "stderr",
     "output_type": "stream",
     "text": [
      "/opt/anaconda3/envs/battery_analysis/lib/python3.9/site-packages/openpyxl/styles/stylesheet.py:237: UserWarning: Workbook contains no default style, apply openpyxl's default\n",
      "  warn(\"Workbook contains no default style, apply openpyxl's default\")\n"
     ]
    },
    {
     "name": "stdout",
     "output_type": "stream",
     "text": [
      "读取成功：LS-EK-LFP-2.0-1_3.65-2_2-EMF-T25-1_3.xlsx, shape = (1048550, 15)\n"
     ]
    },
    {
     "name": "stderr",
     "output_type": "stream",
     "text": [
      "/opt/anaconda3/envs/battery_analysis/lib/python3.9/site-packages/openpyxl/styles/stylesheet.py:237: UserWarning: Workbook contains no default style, apply openpyxl's default\n",
      "  warn(\"Workbook contains no default style, apply openpyxl's default\")\n"
     ]
    },
    {
     "name": "stdout",
     "output_type": "stream",
     "text": [
      "读取成功：LS-EK-LFP-2.0-1_3.65-2_2-EMF-T25-1_12.xlsx, shape = (1048557, 15)\n"
     ]
    }
   ],
   "source": [
    "import os\n",
    "import pandas as pd\n",
    "import matplotlib.pyplot as plt\n",
    "\n",
    "# 设置目标目录\n",
    "folder_path = \"/Users/jane/Documents/Battery_data_analysis/Data/2.0D/1.0C-2.0D/Battery1\"\n",
    "\n",
    "# 获取所有 Excel 文件\n",
    "excel_files = [f for f in os.listdir(folder_path) if f.endswith('.xlsx')]\n",
    "\n",
    "# 用于存储每个文件的 DataFrame\n",
    "data_dict = {}\n",
    "\n",
    "# 遍历读取文件\n",
    "for file in excel_files:\n",
    "    file_path = os.path.join(folder_path, file)\n",
    "    \n",
    "    try:\n",
    "        df = pd.read_excel(file_path)\n",
    "        data_dict[file] = df\n",
    "        print(f\"读取成功：{file}, shape = {df.shape}\")\n",
    "    except Exception as e:\n",
    "        print(f\"读取失败：{file}, 错误信息：{e}\")"
   ]
  },
  {
   "cell_type": "markdown",
   "id": "6d613d3c",
   "metadata": {},
   "source": [
    "Step1: 读取Cycle_66_3_2，先筛选Cycle数据（排除在外的cycle在sheet2的筛选中可以不考虑）"
   ]
  },
  {
   "cell_type": "code",
   "execution_count": 24,
   "id": "d41e4115",
   "metadata": {},
   "outputs": [
    {
     "name": "stdout",
     "output_type": "stream",
     "text": [
      "(2910, 5)\n",
      "Index(['通道', '循环序号', '充电容量(mAh)', '放电容量(mAh)', '容量保持率(%)'], dtype='object')\n",
      "   通道  循环序号     充电容量(mAh)     放电容量(mAh)    容量保持率(%)\n",
      "0   2     1   1429.355378   2006.570133  100.000000\n",
      "1   2     2   2007.788800   2007.274667  100.035111\n",
      "2   2     3  12840.273333  11831.761453  589.651030\n",
      "3   2     4      0.000000      1.389008    0.069223\n",
      "4   2     5      0.000000      1.389008    0.069223\n"
     ]
    },
    {
     "name": "stderr",
     "output_type": "stream",
     "text": [
      "/opt/anaconda3/envs/battery_analysis/lib/python3.9/site-packages/openpyxl/styles/stylesheet.py:237: UserWarning: Workbook contains no default style, apply openpyxl's default\n",
      "  warn(\"Workbook contains no default style, apply openpyxl's default\")\n"
     ]
    }
   ],
   "source": [
    "import pandas as pd\n",
    "\n",
    "# 文件路径\n",
    "file_path = \"/Users/jane/Documents/Battery_data_analysis/Data/2.0D/1.0C-2.0D/Battery1/LS-EK-LFP-2.0-1_3.65-2_2-EMF-T25-1.xlsx\"\n",
    "\n",
    "# 指定读取某个 sheet\n",
    "Cycle_1 = pd.read_excel(file_path, sheet_name=\"Cycle_66_3_2\")\n",
    "\n",
    "# 检查数据\n",
    "print(Cycle_1.shape)\n",
    "print(Cycle_1.columns)\n",
    "print(Cycle_1.head())"
   ]
  },
  {
   "cell_type": "code",
   "execution_count": 25,
   "id": "816054c6",
   "metadata": {},
   "outputs": [
    {
     "name": "stdout",
     "output_type": "stream",
     "text": [
      "清洗前：2910 行\n",
      "清洗后：2574 行\n",
      "      通道  循环序号    充电容量(mAh)    放电容量(mAh)    容量保持率(%)\n",
      "0      2     1  1429.355378  2006.570133  100.000000\n",
      "1      2     2  2007.788800  2007.274667  100.035111\n",
      "2      2    15  1995.432178  1995.629867   99.454778\n",
      "3      2    16  1994.603378  1994.089778   99.378025\n",
      "4      2    17  1993.715200  1993.018844   99.324654\n",
      "...   ..   ...          ...          ...         ...\n",
      "2569   2  2906  1501.384533  1500.917156   74.800134\n",
      "2570   2  2907  1501.201600  1500.740622   74.791337\n",
      "2571   2  2908  1501.031289  1500.554489   74.782060\n",
      "2572   2  2909  1500.810489  1500.365867   74.772660\n",
      "2573   2  2910     8.996006     0.000000    0.000000\n",
      "\n",
      "[2574 rows x 5 columns]\n"
     ]
    }
   ],
   "source": [
    "# 清洗数据：删除充电容量为 0 的行及其前后行\n",
    "# 找出“充电容量(mAh)”为 0 的索引\n",
    "zero_charge_idx = Cycle_1[Cycle_1[\"充电容量(mAh)\"] == 0].index\n",
    "\n",
    "# 构造要删除的索引集：当前 + 前一个 + 后一个\n",
    "drop_idx = set()\n",
    "\n",
    "for idx in zero_charge_idx:\n",
    "    drop_idx.update([idx - 1, idx, idx + 1])\n",
    "\n",
    "# 限制在合法索引范围内\n",
    "drop_idx = [i for i in drop_idx if 0 <= i < len(Cycle_1)]\n",
    "\n",
    "# 删除这些行\n",
    "Cycle_1_cleaned = Cycle_1.drop(index=drop_idx).reset_index(drop=True)\n",
    "\n",
    "# 检查结果\n",
    "print(f\"清洗前：{len(Cycle_1)} 行\")\n",
    "print(f\"清洗后：{len(Cycle_1_cleaned)} 行\")\n",
    "print(Cycle_1_cleaned)"
   ]
  },
  {
   "cell_type": "code",
   "execution_count": 26,
   "id": "ff48dcb7",
   "metadata": {},
   "outputs": [
    {
     "name": "stdout",
     "output_type": "stream",
     "text": [
      "最终清洗后行数：2572\n",
      "15\n",
      "   通道  循环序号    充电容量(mAh)    放电容量(mAh)   容量保持率(%)\n",
      "0   2    15  1995.432178  1995.629867  99.454778\n",
      "1   2    16  1994.603378  1994.089778  99.378025\n",
      "2   2    17  1993.715200  1993.018844  99.324654\n",
      "3   2    18  1992.824356  1992.031467  99.275447\n",
      "4   2    19  1991.797156  1990.973689  99.222731\n"
     ]
    }
   ],
   "source": [
    "# 删除循环序号在 1 到 14 的行\n",
    "Cycle_1_cleaned = Cycle_1_cleaned[~Cycle_1_cleaned['循环序号'].between(1, 14)]\n",
    "\n",
    "# 重置索引\n",
    "Cycle_1_cleaned = Cycle_1_cleaned.reset_index(drop=True)\n",
    "\n",
    "# 检查结果\n",
    "print(f\"最终清洗后行数：{len(Cycle_1_cleaned)}\")\n",
    "print(Cycle_1_cleaned['循环序号'].min())  # 应该是 ≥ 15\n",
    "print(Cycle_1_cleaned.head())"
   ]
  },
  {
   "cell_type": "code",
   "execution_count": 17,
   "id": "6a7823c5",
   "metadata": {},
   "outputs": [
    {
     "name": "stdout",
     "output_type": "stream",
     "text": [
      "已成功导出到：/Users/jane/Documents/Battery_data_analysis/Output/Cycle_1_cleaned.csv\n"
     ]
    }
   ],
   "source": [
    "# 设置导出路径（你可以修改为自己想保存的位置）\n",
    "output_path = \"/Users/jane/Documents/Battery_data_analysis/Output/Cycle_1_cleaned.csv\"\n",
    "\n",
    "# 导出为 CSV 文件\n",
    "Cycle_1_cleaned.to_csv(output_path, index=False)\n",
    "\n",
    "print(f\"已成功导出到：{output_path}\")"
   ]
  },
  {
   "cell_type": "markdown",
   "id": "f74c1131",
   "metadata": {},
   "source": [
    "将stastic中的数据与cycle数据匹配上，先把多余的循环删除"
   ]
  },
  {
   "cell_type": "code",
   "execution_count": 36,
   "id": "2d1b3f2a",
   "metadata": {},
   "outputs": [
    {
     "name": "stderr",
     "output_type": "stream",
     "text": [
      "/opt/anaconda3/envs/battery_analysis/lib/python3.9/site-packages/openpyxl/styles/stylesheet.py:237: UserWarning: Workbook contains no default style, apply openpyxl's default\n",
      "  warn(\"Workbook contains no default style, apply openpyxl's default\")\n"
     ]
    },
    {
     "name": "stdout",
     "output_type": "stream",
     "text": [
      "(11730, 19)\n",
      "Index(['通道', '循环', '步次', '原始步次', '状态', '起始电压(V)', '结束电压(V)', '起始电流(mA)',\n",
      "       '结束电流(mA)', '容量(mAh)', '持续时间(h:min:s.ms)', '相对时间(h:min:s.ms)', '绝对时间',\n",
      "       '净放电容量(mAh)', '充电容量(mAh)', '放电容量(mAh)', '净放电能量(Wh)', '充电能量(Wh)',\n",
      "       '放电能量(Wh)'],\n",
      "      dtype='object')\n",
      "   通道  循环  步次  原始步次      状态  起始电压(V)  结束电压(V)  起始电流(mA)  结束电流(mA)  \\\n",
      "0   2   1   1     1      搁置   3.2929   3.2929      0.00       0.0   \n",
      "1   2   1   2     2  恒流恒压充电   3.3024   3.6509    199.85      39.9   \n",
      "2   2   1   3     3      搁置   3.6484   3.5885      0.00       0.0   \n",
      "3   2   1   4     4  恒流恒压放电   3.5751   2.0007   -199.77     -40.0   \n",
      "4   2   2   5     1      搁置   2.0125   2.2446      0.00       0.0   \n",
      "\n",
      "       容量(mAh) 持续时间(h:min:s.ms) 相对时间(h:min:s.ms)                 绝对时间  \\\n",
      "0     0.000000      0:02:00.000      0:02:00.000  2024-03-01 16:18:16   \n",
      "1  1429.355378      7:12:13.000      7:12:13.000  2024-03-01 16:20:16   \n",
      "2     0.000000      0:01:00.000      0:01:00.000  2024-03-01 23:32:29   \n",
      "3  2006.570133     10:06:05.000     10:06:05.000  2024-03-01 23:33:29   \n",
      "4     0.000000      0:02:00.000      0:02:00.000  2024-03-02 09:39:33   \n",
      "\n",
      "    净放电容量(mAh)    充电容量(mAh)    放电容量(mAh)  净放电能量(Wh)  充电能量(Wh)  放电能量(Wh)  \n",
      "0     0.000000     0.000000     0.000000   0.000000  0.000000  0.000000  \n",
      "1 -1429.355378  1429.355378     0.000000  -4.817785  4.817785  0.000000  \n",
      "2     0.000000     0.000000     0.000000   0.000000  0.000000  0.000000  \n",
      "3  2006.570133     0.000000  2006.570133   6.493114  0.000000  6.493114  \n",
      "4     0.000000     0.000000     0.000000   0.000000  0.000000  0.000000  \n"
     ]
    }
   ],
   "source": [
    "import pandas as pd\n",
    "\n",
    "# 文件路径\n",
    "file_path = \"/Users/jane/Documents/Battery_data_analysis/Data/2.0D/1.0C-2.0D/Battery1/LS-EK-LFP-2.0-1_3.65-2_2-EMF-T25-1.xlsx\"\n",
    "\n",
    "# 指定读取某个 sheet\n",
    "Statis_1 = pd.read_excel(file_path, sheet_name=\"Statis_66_3_2\")\n",
    "\n",
    "# 检查数据\n",
    "print(Statis_1.shape)\n",
    "print(Statis_1.columns)\n",
    "print(Statis_1.head())"
   ]
  },
  {
   "cell_type": "code",
   "execution_count": 38,
   "id": "b089a5e7",
   "metadata": {},
   "outputs": [
    {
     "name": "stdout",
     "output_type": "stream",
     "text": [
      "原始 Statis_1 行数: 11730\n",
      "清洗后 Statis_1 行数: 10286\n",
      "   通道  循环  步次  原始步次      状态  起始电压(V)  结束电压(V)  起始电流(mA)  结束电流(mA)  \\\n",
      "0   2  15  64    32      搁置   2.0114   2.2528      0.00      0.00   \n",
      "1   2  15  65    33  恒流恒压充电   2.4947   3.6514   1999.16     39.83   \n",
      "2   2  15  66    34      搁置   3.6488   3.5831      0.00      0.00   \n",
      "3   2  15  67    35  恒流恒压放电   3.3593   2.0009  -3998.53    -39.96   \n",
      "4   2  16  68    32      搁置   2.0115   2.2492      0.00      0.00   \n",
      "\n",
      "       容量(mAh) 持续时间(h:min:s.ms) 相对时间(h:min:s.ms)                 绝对时间  \\\n",
      "0     0.000000      0:02:00.000      0:02:00.000  2024-03-06 01:50:41   \n",
      "1  1995.432178      1:14:37.000      1:14:37.000  2024-03-06 01:52:41   \n",
      "2     0.000000      0:01:00.000      0:01:00.000  2024-03-06 03:07:18   \n",
      "3  1995.629867      0:36:21.000      0:36:21.000  2024-03-06 03:08:19   \n",
      "4     0.000000      0:02:00.000      0:02:00.000  2024-03-06 03:44:40   \n",
      "\n",
      "    净放电容量(mAh)    充电容量(mAh)    放电容量(mAh)  净放电能量(Wh)  充电能量(Wh)  放电能量(Wh)  \n",
      "0     0.000000     0.000000     0.000000   0.000000   0.00000  0.000000  \n",
      "1 -1995.432178  1995.432178     0.000000  -6.875930   6.87593  0.000000  \n",
      "2     0.000000     0.000000     0.000000   0.000000   0.00000  0.000000  \n",
      "3  1995.629867     0.000000  1995.629867   5.894197   0.00000  5.894197  \n",
      "4     0.000000     0.000000     0.000000   0.000000   0.00000  0.000000  \n"
     ]
    }
   ],
   "source": [
    "# 1. 提取保留下来的循环号（去重）\n",
    "valid_cycles = Cycle_1_cleaned['循环序号'].unique()\n",
    "\n",
    "# 2. 从 Statis_1 中只保留这些循环号的数据\n",
    "Statis_1_cleaned = Statis_1[Statis_1['循环'].isin(valid_cycles)].reset_index(drop=True)\n",
    "\n",
    "# 3. 查看清洗后的数据\n",
    "print(f\"原始 Statis_1 行数: {len(Statis_1)}\")\n",
    "print(f\"清洗后 Statis_1 行数: {len(Statis_1_cleaned)}\")\n",
    "print(Statis_1_cleaned.head())"
   ]
  },
  {
   "cell_type": "code",
   "execution_count": 39,
   "id": "9fe45fc1",
   "metadata": {},
   "outputs": [],
   "source": [
    "Statis_1_cleaned.to_csv(\"/Users/jane/Documents/Battery_data_analysis/Output/Statis_1_cleaned.csv\", index=False)"
   ]
  },
  {
   "cell_type": "markdown",
   "id": "ea2af9df",
   "metadata": {},
   "source": [
    "将Statis表格中的"
   ]
  },
  {
   "cell_type": "code",
   "execution_count": 40,
   "id": "12041a77",
   "metadata": {},
   "outputs": [
    {
     "name": "stdout",
     "output_type": "stream",
     "text": [
      "         循环  原始步次      状态\n",
      "0        15    32      搁置\n",
      "1        15    33  恒流恒压充电\n",
      "2        15    34      搁置\n",
      "3        15    35  恒流恒压放电\n",
      "4        16    32      搁置\n",
      "...     ...   ...     ...\n",
      "10279  2908    67  恒流恒压放电\n",
      "10280  2909    64      搁置\n",
      "10281  2909    65  恒流恒压充电\n",
      "10282  2909    66      搁置\n",
      "10283  2909    67  恒流恒压放电\n",
      "\n",
      "[10284 rows x 3 columns]\n"
     ]
    }
   ],
   "source": [
    "# 定义原始步次组和紧跟步骤\n",
    "group1_steps = [32, 33, 34, 35]\n",
    "group1_next = 6\n",
    "\n",
    "group2_steps = [64, 65, 66, 67]\n",
    "group2_next = 38\n",
    "\n",
    "# 筛选 group1 主体步骤\n",
    "group1_df = Statis_1_cleaned[Statis_1_cleaned[\"原始步次\"].isin(group1_steps)]\n",
    "\n",
    "# 找出 group1 中“恒流恒压放电”的行的 index\n",
    "g1_discharge_idx = group1_df[group1_df[\"状态\"] == \"恒流恒压放电\"].index\n",
    "\n",
    "# 如果存在，取放电步骤后一行的原始步次，检查是否为6\n",
    "g1_extra_row = pd.DataFrame()\n",
    "if len(g1_discharge_idx) > 0:\n",
    "    next_idx = g1_discharge_idx[0] + 1\n",
    "    if next_idx < len(Statis_1_cleaned):\n",
    "        row = Statis_1_cleaned.iloc[next_idx]\n",
    "        if row[\"原始步次\"] == group1_next:\n",
    "            g1_extra_row = row.to_frame().T  # 保证格式一致（DataFrame）\n",
    "\n",
    "# 筛选 group2 主体步骤\n",
    "group2_df = Statis_1_cleaned[Statis_1_cleaned[\"原始步次\"].isin(group2_steps)]\n",
    "\n",
    "# 找出 group2 中“恒流恒压放电”的行的 index\n",
    "g2_discharge_idx = group2_df[group2_df[\"状态\"] == \"恒流恒压放电\"].index\n",
    "\n",
    "# 如果存在，取放电步骤后一行的原始步次，检查是否为38\n",
    "g2_extra_row = pd.DataFrame()\n",
    "if len(g2_discharge_idx) > 0:\n",
    "    next_idx = g2_discharge_idx[0] + 1\n",
    "    if next_idx < len(Statis_1_cleaned):\n",
    "        row = Statis_1_cleaned.iloc[next_idx]\n",
    "        if row[\"原始步次\"] == group2_next:\n",
    "            g2_extra_row = row.to_frame().T\n",
    "\n",
    "# 合并所有结果\n",
    "Statis_1_group_cleaned = pd.concat([group1_df, g1_extra_row, group2_df, g2_extra_row], ignore_index=True)\n",
    "\n",
    "# 查看结果\n",
    "print(Statis_1_group_cleaned[['循环', '原始步次', '状态']])"
   ]
  },
  {
   "cell_type": "code",
   "execution_count": 41,
   "id": "15d816e6",
   "metadata": {},
   "outputs": [],
   "source": [
    "Statis_1_group_cleaned.to_csv(\"/Users/jane/Documents/Battery_data_analysis/Output/Statis_1_group_cleaned.csv\", index=False)"
   ]
  },
  {
   "cell_type": "code",
   "execution_count": null,
   "id": "fc12dd70",
   "metadata": {},
   "outputs": [
    {
     "name": "stderr",
     "output_type": "stream",
     "text": [
      "/opt/anaconda3/envs/battery_analysis/lib/python3.9/site-packages/openpyxl/styles/stylesheet.py:237: UserWarning: Workbook contains no default style, apply openpyxl's default\n",
      "  warn(\"Workbook contains no default style, apply openpyxl's default\")\n"
     ]
    },
    {
     "name": "stdout",
     "output_type": "stream",
     "text": [
      "读取 Detail_66_3_2 成功：LS-EK-LFP-2.0-1_3.65-2_2-EMF-T25-1_11.xlsx, shape = (1048557, 16)\n"
     ]
    },
    {
     "name": "stderr",
     "output_type": "stream",
     "text": [
      "/opt/anaconda3/envs/battery_analysis/lib/python3.9/site-packages/openpyxl/styles/stylesheet.py:237: UserWarning: Workbook contains no default style, apply openpyxl's default\n",
      "  warn(\"Workbook contains no default style, apply openpyxl's default\")\n"
     ]
    },
    {
     "name": "stdout",
     "output_type": "stream",
     "text": [
      "读取 Detail_66_3_2 成功：LS-EK-LFP-2.0-1_3.65-2_2-EMF-T25-1_1.xlsx, shape = (1048557, 16)\n"
     ]
    },
    {
     "name": "stderr",
     "output_type": "stream",
     "text": [
      "/opt/anaconda3/envs/battery_analysis/lib/python3.9/site-packages/openpyxl/styles/stylesheet.py:237: UserWarning: Workbook contains no default style, apply openpyxl's default\n",
      "  warn(\"Workbook contains no default style, apply openpyxl's default\")\n"
     ]
    },
    {
     "name": "stdout",
     "output_type": "stream",
     "text": [
      "读取 Detail_66_3_2 成功：LS-EK-LFP-2.0-1_3.65-2_2-EMF-T25-1_10.xlsx, shape = (1048557, 16)\n"
     ]
    },
    {
     "name": "stderr",
     "output_type": "stream",
     "text": [
      "/opt/anaconda3/envs/battery_analysis/lib/python3.9/site-packages/openpyxl/styles/stylesheet.py:237: UserWarning: Workbook contains no default style, apply openpyxl's default\n",
      "  warn(\"Workbook contains no default style, apply openpyxl's default\")\n"
     ]
    },
    {
     "name": "stdout",
     "output_type": "stream",
     "text": [
      "读取 Detail_66_3_2 成功：LS-EK-LFP-2.0-1_3.65-2_2-EMF-T25-1_6.xlsx, shape = (1048557, 16)\n"
     ]
    },
    {
     "name": "stderr",
     "output_type": "stream",
     "text": [
      "/opt/anaconda3/envs/battery_analysis/lib/python3.9/site-packages/openpyxl/styles/stylesheet.py:237: UserWarning: Workbook contains no default style, apply openpyxl's default\n",
      "  warn(\"Workbook contains no default style, apply openpyxl's default\")\n"
     ]
    },
    {
     "name": "stdout",
     "output_type": "stream",
     "text": [
      "读取 Detail_66_3_2 成功：LS-EK-LFP-2.0-1_3.65-2_2-EMF-T25-1_17.xlsx, shape = (242447, 16)\n"
     ]
    },
    {
     "name": "stderr",
     "output_type": "stream",
     "text": [
      "/opt/anaconda3/envs/battery_analysis/lib/python3.9/site-packages/openpyxl/styles/stylesheet.py:237: UserWarning: Workbook contains no default style, apply openpyxl's default\n",
      "  warn(\"Workbook contains no default style, apply openpyxl's default\")\n"
     ]
    },
    {
     "name": "stdout",
     "output_type": "stream",
     "text": [
      "读取 Detail_66_3_2 成功：LS-EK-LFP-2.0-1_3.65-2_2-EMF-T25-1_16.xlsx, shape = (1048557, 16)\n"
     ]
    },
    {
     "name": "stderr",
     "output_type": "stream",
     "text": [
      "/opt/anaconda3/envs/battery_analysis/lib/python3.9/site-packages/openpyxl/styles/stylesheet.py:237: UserWarning: Workbook contains no default style, apply openpyxl's default\n",
      "  warn(\"Workbook contains no default style, apply openpyxl's default\")\n"
     ]
    },
    {
     "name": "stdout",
     "output_type": "stream",
     "text": [
      "读取 Detail_66_3_2 成功：LS-EK-LFP-2.0-1_3.65-2_2-EMF-T25-1_7.xlsx, shape = (1048557, 16)\n"
     ]
    },
    {
     "name": "stderr",
     "output_type": "stream",
     "text": [
      "/opt/anaconda3/envs/battery_analysis/lib/python3.9/site-packages/openpyxl/styles/stylesheet.py:237: UserWarning: Workbook contains no default style, apply openpyxl's default\n",
      "  warn(\"Workbook contains no default style, apply openpyxl's default\")\n"
     ]
    },
    {
     "name": "stdout",
     "output_type": "stream",
     "text": [
      "读取 Detail_66_3_2 成功：LS-EK-LFP-2.0-1_3.65-2_2-EMF-T25-1.xlsx, shape = (1048556, 16)\n"
     ]
    },
    {
     "name": "stderr",
     "output_type": "stream",
     "text": [
      "/opt/anaconda3/envs/battery_analysis/lib/python3.9/site-packages/openpyxl/styles/stylesheet.py:237: UserWarning: Workbook contains no default style, apply openpyxl's default\n",
      "  warn(\"Workbook contains no default style, apply openpyxl's default\")\n"
     ]
    },
    {
     "name": "stdout",
     "output_type": "stream",
     "text": [
      "读取 Detail_66_3_2 成功：LS-EK-LFP-2.0-1_3.65-2_2-EMF-T25-1_4.xlsx, shape = (1048557, 16)\n"
     ]
    },
    {
     "name": "stderr",
     "output_type": "stream",
     "text": [
      "/opt/anaconda3/envs/battery_analysis/lib/python3.9/site-packages/openpyxl/styles/stylesheet.py:237: UserWarning: Workbook contains no default style, apply openpyxl's default\n",
      "  warn(\"Workbook contains no default style, apply openpyxl's default\")\n"
     ]
    },
    {
     "name": "stdout",
     "output_type": "stream",
     "text": [
      "读取 Detail_66_3_2 成功：LS-EK-LFP-2.0-1_3.65-2_2-EMF-T25-1_8.xlsx, shape = (1048557, 16)\n"
     ]
    },
    {
     "name": "stderr",
     "output_type": "stream",
     "text": [
      "/opt/anaconda3/envs/battery_analysis/lib/python3.9/site-packages/openpyxl/styles/stylesheet.py:237: UserWarning: Workbook contains no default style, apply openpyxl's default\n",
      "  warn(\"Workbook contains no default style, apply openpyxl's default\")\n"
     ]
    },
    {
     "name": "stdout",
     "output_type": "stream",
     "text": [
      "读取 Detail_66_3_2 成功：LS-EK-LFP-2.0-1_3.65-2_2-EMF-T25-1_15.xlsx, shape = (1048557, 16)\n"
     ]
    },
    {
     "name": "stderr",
     "output_type": "stream",
     "text": [
      "/opt/anaconda3/envs/battery_analysis/lib/python3.9/site-packages/openpyxl/styles/stylesheet.py:237: UserWarning: Workbook contains no default style, apply openpyxl's default\n",
      "  warn(\"Workbook contains no default style, apply openpyxl's default\")\n"
     ]
    },
    {
     "name": "stdout",
     "output_type": "stream",
     "text": [
      "读取 Detail_66_3_2 成功：LS-EK-LFP-2.0-1_3.65-2_2-EMF-T25-1_14.xlsx, shape = (1048557, 16)\n"
     ]
    },
    {
     "name": "stderr",
     "output_type": "stream",
     "text": [
      "/opt/anaconda3/envs/battery_analysis/lib/python3.9/site-packages/openpyxl/styles/stylesheet.py:237: UserWarning: Workbook contains no default style, apply openpyxl's default\n",
      "  warn(\"Workbook contains no default style, apply openpyxl's default\")\n"
     ]
    },
    {
     "name": "stdout",
     "output_type": "stream",
     "text": [
      "读取 Detail_66_3_2 成功：LS-EK-LFP-2.0-1_3.65-2_2-EMF-T25-1_9.xlsx, shape = (1048557, 16)\n"
     ]
    },
    {
     "name": "stderr",
     "output_type": "stream",
     "text": [
      "/opt/anaconda3/envs/battery_analysis/lib/python3.9/site-packages/openpyxl/styles/stylesheet.py:237: UserWarning: Workbook contains no default style, apply openpyxl's default\n",
      "  warn(\"Workbook contains no default style, apply openpyxl's default\")\n"
     ]
    },
    {
     "name": "stdout",
     "output_type": "stream",
     "text": [
      "读取 Detail_66_3_2 成功：LS-EK-LFP-2.0-1_3.65-2_2-EMF-T25-1_5.xlsx, shape = (1048557, 16)\n"
     ]
    },
    {
     "name": "stderr",
     "output_type": "stream",
     "text": [
      "/opt/anaconda3/envs/battery_analysis/lib/python3.9/site-packages/openpyxl/styles/stylesheet.py:237: UserWarning: Workbook contains no default style, apply openpyxl's default\n",
      "  warn(\"Workbook contains no default style, apply openpyxl's default\")\n"
     ]
    },
    {
     "name": "stdout",
     "output_type": "stream",
     "text": [
      "读取 Detail_66_3_2 成功：LS-EK-LFP-2.0-1_3.65-2_2-EMF-T25-1_13.xlsx, shape = (1048557, 16)\n"
     ]
    },
    {
     "name": "stderr",
     "output_type": "stream",
     "text": [
      "/opt/anaconda3/envs/battery_analysis/lib/python3.9/site-packages/openpyxl/styles/stylesheet.py:237: UserWarning: Workbook contains no default style, apply openpyxl's default\n",
      "  warn(\"Workbook contains no default style, apply openpyxl's default\")\n"
     ]
    },
    {
     "name": "stdout",
     "output_type": "stream",
     "text": [
      "读取 Detail_66_3_2 成功：LS-EK-LFP-2.0-1_3.65-2_2-EMF-T25-1_2.xlsx, shape = (1048557, 16)\n"
     ]
    },
    {
     "name": "stderr",
     "output_type": "stream",
     "text": [
      "/opt/anaconda3/envs/battery_analysis/lib/python3.9/site-packages/openpyxl/styles/stylesheet.py:237: UserWarning: Workbook contains no default style, apply openpyxl's default\n",
      "  warn(\"Workbook contains no default style, apply openpyxl's default\")\n"
     ]
    },
    {
     "name": "stdout",
     "output_type": "stream",
     "text": [
      "读取 Detail_66_3_2 成功：LS-EK-LFP-2.0-1_3.65-2_2-EMF-T25-1_3.xlsx, shape = (1048550, 16)\n"
     ]
    },
    {
     "name": "stderr",
     "output_type": "stream",
     "text": [
      "/opt/anaconda3/envs/battery_analysis/lib/python3.9/site-packages/openpyxl/styles/stylesheet.py:237: UserWarning: Workbook contains no default style, apply openpyxl's default\n",
      "  warn(\"Workbook contains no default style, apply openpyxl's default\")\n"
     ]
    },
    {
     "name": "stdout",
     "output_type": "stream",
     "text": [
      "读取 Detail_66_3_2 成功：LS-EK-LFP-2.0-1_3.65-2_2-EMF-T25-1_12.xlsx, shape = (1048557, 16)\n",
      "\n",
      "合并后总表格 shape: (18067908, 16)\n",
      "       记录序号      状态  跳转    循环    步次       电流(mA)   电压(V)     容量(mAh)  \\\n",
      "0  11534116  恒流恒压充电  77  1737  7008  1999.160034  3.4321  640.296089   \n",
      "1  11534117  恒流恒压充电  77  1737  7008  1999.160034  3.4321  640.851467   \n",
      "2  11534118  恒流恒压充电  77  1737  7008  1999.359985  3.4322  641.406889   \n",
      "3  11534119  恒流恒压充电  77  1737  7008  1999.359985  3.4322  641.962222   \n",
      "4  11534120  恒流恒压充电  77  1737  7008  1999.160034  3.4324  642.517511   \n",
      "\n",
      "     能量(Wh) 相对时间(h:min:s.ms)     绝对时间(h:min:s.ms)  辅助通道 TU1 U(V)  \\\n",
      "0  2.140256      0:19:13.000  2024-07-13 02:28:23         4.7062   \n",
      "1  2.142162      0:19:14.000  2024-07-13 02:28:24         4.7194   \n",
      "2  2.144068      0:19:15.000  2024-07-13 02:28:25         4.7324   \n",
      "3  2.145974      0:19:16.000  2024-07-13 02:28:26         4.7453   \n",
      "4  2.147881      0:19:17.000  2024-07-13 02:28:27         4.7585   \n",
      "\n",
      "   辅助通道 TU1 T(°C)  辅助压差(V)  辅助温差(°C)  \\\n",
      "0          -213.2        0         0   \n",
      "1          -212.7        0         0   \n",
      "2          -212.1        0         0   \n",
      "3          -211.6        0         0   \n",
      "4          -211.1        0         0   \n",
      "\n",
      "                                         来源文件  \n",
      "0  LS-EK-LFP-2.0-1_3.65-2_2-EMF-T25-1_11.xlsx  \n",
      "1  LS-EK-LFP-2.0-1_3.65-2_2-EMF-T25-1_11.xlsx  \n",
      "2  LS-EK-LFP-2.0-1_3.65-2_2-EMF-T25-1_11.xlsx  \n",
      "3  LS-EK-LFP-2.0-1_3.65-2_2-EMF-T25-1_11.xlsx  \n",
      "4  LS-EK-LFP-2.0-1_3.65-2_2-EMF-T25-1_11.xlsx  \n"
     ]
    }
   ],
   "source": [
    "import os\n",
    "import pandas as pd\n",
    "\n",
    "# 设置目标目录\n",
    "folder_path = \"/Users/jane/Documents/Battery_data_analysis/Data/2.0D/1.0C-2.0D/Battery1\"\n",
    "\n",
    "# 获取所有 Excel 文件\n",
    "excel_files = [f for f in os.listdir(folder_path) if f.endswith('.xlsx')]\n",
    "\n",
    "# 存储所有 Detail_66_3_2 表的数据\n",
    "detail_tables = []\n",
    "\n",
    "# 遍历所有文件，尝试读取指定 sheet\n",
    "for file in excel_files:\n",
    "    file_path = os.path.join(folder_path, file)\n",
    "    try:\n",
    "        xls = pd.ExcelFile(file_path)\n",
    "        if \"Detail_66_3_2\" in xls.sheet_names:\n",
    "            df = xls.parse(\"Detail_66_3_2\")\n",
    "            df[\"来源文件\"] = file  # 添加来源列用于溯源\n",
    "            detail_tables.append(df)\n",
    "            print(f\"读取 Detail_66_3_2 成功：{file}, shape = {df.shape}\")\n",
    "        else:\n",
    "            print(f\"{file} 中不包含 sheet: Detail_66_3_2\")\n",
    "    except Exception as e:\n",
    "        print(f\"读取失败：{file}, 错误信息：{e}\")\n",
    "\n"
   ]
  },
  {
   "cell_type": "code",
   "execution_count": 47,
   "id": "9ee5f834",
   "metadata": {},
   "outputs": [
    {
     "name": "stdout",
     "output_type": "stream",
     "text": [
      "\n",
      "合并后总表格 shape: (18067908, 16)\n",
      "       记录序号      状态  跳转    循环    步次       电流(mA)   电压(V)     容量(mAh)  \\\n",
      "0  11534116  恒流恒压充电  77  1737  7008  1999.160034  3.4321  640.296089   \n",
      "1  11534117  恒流恒压充电  77  1737  7008  1999.160034  3.4321  640.851467   \n",
      "2  11534118  恒流恒压充电  77  1737  7008  1999.359985  3.4322  641.406889   \n",
      "3  11534119  恒流恒压充电  77  1737  7008  1999.359985  3.4322  641.962222   \n",
      "4  11534120  恒流恒压充电  77  1737  7008  1999.160034  3.4324  642.517511   \n",
      "\n",
      "     能量(Wh) 相对时间(h:min:s.ms)     绝对时间(h:min:s.ms)  辅助通道 TU1 U(V)  \\\n",
      "0  2.140256      0:19:13.000  2024-07-13 02:28:23         4.7062   \n",
      "1  2.142162      0:19:14.000  2024-07-13 02:28:24         4.7194   \n",
      "2  2.144068      0:19:15.000  2024-07-13 02:28:25         4.7324   \n",
      "3  2.145974      0:19:16.000  2024-07-13 02:28:26         4.7453   \n",
      "4  2.147881      0:19:17.000  2024-07-13 02:28:27         4.7585   \n",
      "\n",
      "   辅助通道 TU1 T(°C)  辅助压差(V)  辅助温差(°C)  \\\n",
      "0          -213.2        0         0   \n",
      "1          -212.7        0         0   \n",
      "2          -212.1        0         0   \n",
      "3          -211.6        0         0   \n",
      "4          -211.1        0         0   \n",
      "\n",
      "                                         来源文件  \n",
      "0  LS-EK-LFP-2.0-1_3.65-2_2-EMF-T25-1_11.xlsx  \n",
      "1  LS-EK-LFP-2.0-1_3.65-2_2-EMF-T25-1_11.xlsx  \n",
      "2  LS-EK-LFP-2.0-1_3.65-2_2-EMF-T25-1_11.xlsx  \n",
      "3  LS-EK-LFP-2.0-1_3.65-2_2-EMF-T25-1_11.xlsx  \n",
      "4  LS-EK-LFP-2.0-1_3.65-2_2-EMF-T25-1_11.xlsx  \n"
     ]
    }
   ],
   "source": [
    "# 合并所有 DataFrame\n",
    "Detail_all_1 = pd.concat(detail_tables, ignore_index=True)\n",
    "\n",
    "# 查看结果\n",
    "print(f\"\\n合并后总表格 shape: {Detail_all_1.shape}\")\n",
    "print(Detail_all_1.head())"
   ]
  },
  {
   "cell_type": "code",
   "execution_count": 48,
   "id": "0ea44c84",
   "metadata": {},
   "outputs": [
    {
     "name": "stdout",
     "output_type": "stream",
     "text": [
      "原始 Detail_1 行数: 18067908\n",
      "筛选后 Detail_1 行数: 13634169\n",
      "       记录序号      状态  跳转    循环    步次       电流(mA)   电压(V)     容量(mAh)  \\\n",
      "0  11534116  恒流恒压充电  77  1737  7008  1999.160034  3.4321  640.296089   \n",
      "1  11534117  恒流恒压充电  77  1737  7008  1999.160034  3.4321  640.851467   \n",
      "2  11534118  恒流恒压充电  77  1737  7008  1999.359985  3.4322  641.406889   \n",
      "3  11534119  恒流恒压充电  77  1737  7008  1999.359985  3.4322  641.962222   \n",
      "4  11534120  恒流恒压充电  77  1737  7008  1999.160034  3.4324  642.517511   \n",
      "\n",
      "     能量(Wh) 相对时间(h:min:s.ms)     绝对时间(h:min:s.ms)  辅助通道 TU1 U(V)  \\\n",
      "0  2.140256      0:19:13.000  2024-07-13 02:28:23         4.7062   \n",
      "1  2.142162      0:19:14.000  2024-07-13 02:28:24         4.7194   \n",
      "2  2.144068      0:19:15.000  2024-07-13 02:28:25         4.7324   \n",
      "3  2.145974      0:19:16.000  2024-07-13 02:28:26         4.7453   \n",
      "4  2.147881      0:19:17.000  2024-07-13 02:28:27         4.7585   \n",
      "\n",
      "   辅助通道 TU1 T(°C)  辅助压差(V)  辅助温差(°C)  \\\n",
      "0          -213.2        0         0   \n",
      "1          -212.7        0         0   \n",
      "2          -212.1        0         0   \n",
      "3          -211.6        0         0   \n",
      "4          -211.1        0         0   \n",
      "\n",
      "                                         来源文件  \n",
      "0  LS-EK-LFP-2.0-1_3.65-2_2-EMF-T25-1_11.xlsx  \n",
      "1  LS-EK-LFP-2.0-1_3.65-2_2-EMF-T25-1_11.xlsx  \n",
      "2  LS-EK-LFP-2.0-1_3.65-2_2-EMF-T25-1_11.xlsx  \n",
      "3  LS-EK-LFP-2.0-1_3.65-2_2-EMF-T25-1_11.xlsx  \n",
      "4  LS-EK-LFP-2.0-1_3.65-2_2-EMF-T25-1_11.xlsx  \n"
     ]
    }
   ],
   "source": [
    "# 假设你已经有了这两个 DataFrame：\n",
    "# Detail_1 和 Statis_1_group_cleaned\n",
    "\n",
    "# 1. 创建一个包含 (循环, 步次, 状态) 的筛选集合\n",
    "filter_tuples = set(\n",
    "    zip(Statis_1_group_cleaned[\"循环\"], \n",
    "        Statis_1_group_cleaned[\"步次\"], \n",
    "        Statis_1_group_cleaned[\"状态\"])\n",
    ")\n",
    "\n",
    "# 2. 在 Detail_1 中进行筛选：保留匹配的行\n",
    "Detail_1_filtered = Detail_all_1[\n",
    "    Detail_all_1.apply(lambda row: (row[\"循环\"], row[\"步次\"], row[\"状态\"]) in filter_tuples, axis=1)\n",
    "].reset_index(drop=True)\n",
    "\n",
    "# 3. 查看筛选结果\n",
    "print(f\"原始 Detail_1 行数: {len(Detail_all_1)}\")\n",
    "print(f\"筛选后 Detail_1 行数: {len(Detail_1_filtered)}\")\n",
    "print(Detail_1_filtered.head())\n",
    "# 这是全部的表格"
   ]
  },
  {
   "cell_type": "code",
   "execution_count": 49,
   "id": "650cb192",
   "metadata": {},
   "outputs": [],
   "source": [
    "Detail_1_filtered.to_csv(\"/Users/jane/Documents/Battery_data_analysis/Output/Detail_1_filtered.csv\", index=False)"
   ]
  }
 ],
 "metadata": {
  "kernelspec": {
   "display_name": "battery_analysis",
   "language": "python",
   "name": "python3"
  },
  "language_info": {
   "codemirror_mode": {
    "name": "ipython",
    "version": 3
   },
   "file_extension": ".py",
   "mimetype": "text/x-python",
   "name": "python",
   "nbconvert_exporter": "python",
   "pygments_lexer": "ipython3",
   "version": "3.9.23"
  }
 },
 "nbformat": 4,
 "nbformat_minor": 5
}
